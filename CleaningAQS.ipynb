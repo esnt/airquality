{
 "cells": [
  {
   "cell_type": "code",
   "execution_count": 9,
   "metadata": {},
   "outputs": [],
   "source": [
    "import pandas as pd\n",
    "import numpy as np\n",
    "import re\n",
    "import matplotlib.pyplot as plt\n",
    "import seaborn as sns\n",
    "import time"
   ]
  },
  {
   "cell_type": "code",
   "execution_count": 10,
   "metadata": {},
   "outputs": [],
   "source": [
    "## read in data and drop columns that aren't needed\n",
    "df = pd.read_csv('aqi_utah_arizona.csv')\n",
    "drops = ['state_code','county_code','parameter_code','cbsa_code','cbsa','observation_count']\n",
    "df = df.drop(drops,axis=1)"
   ]
  },
  {
   "cell_type": "code",
   "execution_count": 11,
   "metadata": {},
   "outputs": [],
   "source": [
    "## drop rows with a validity indicator equal to N (questionable validity of data)\n",
    "df = df[df['validity_indicator']=='Y']\n",
    "df = df.drop(['validity_indicator'], axis=1)"
   ]
  },
  {
   "cell_type": "code",
   "execution_count": 12,
   "metadata": {},
   "outputs": [],
   "source": [
    "## drop rows where the observation percent is less than 90\n",
    "df = df[df['observation_percent'] > 89]\n",
    "df = df.drop(['observation_percent'], axis=1)"
   ]
  },
  {
   "cell_type": "code",
   "execution_count": 13,
   "metadata": {},
   "outputs": [],
   "source": [
    "## drop other columns that aren't needed\n",
    "df = df.drop(['event_type','first_max_value','first_max_hour','local_site_name'],axis=1)"
   ]
  },
  {
   "cell_type": "code",
   "execution_count": 14,
   "metadata": {},
   "outputs": [
    {
     "data": {
      "text/html": [
       "<div>\n",
       "<style scoped>\n",
       "    .dataframe tbody tr th:only-of-type {\n",
       "        vertical-align: middle;\n",
       "    }\n",
       "\n",
       "    .dataframe tbody tr th {\n",
       "        vertical-align: top;\n",
       "    }\n",
       "\n",
       "    .dataframe thead th {\n",
       "        text-align: right;\n",
       "    }\n",
       "</style>\n",
       "<table border=\"1\" class=\"dataframe\">\n",
       "  <thead>\n",
       "    <tr style=\"text-align: right;\">\n",
       "      <th></th>\n",
       "      <th>site_number</th>\n",
       "      <th>latitude</th>\n",
       "      <th>longitude</th>\n",
       "      <th>parameter</th>\n",
       "      <th>date_local</th>\n",
       "      <th>arithmetic_mean</th>\n",
       "      <th>aqi</th>\n",
       "      <th>state</th>\n",
       "      <th>county</th>\n",
       "      <th>city</th>\n",
       "    </tr>\n",
       "  </thead>\n",
       "  <tbody>\n",
       "    <tr>\n",
       "      <th>0</th>\n",
       "      <td>7020</td>\n",
       "      <td>33.488131</td>\n",
       "      <td>-111.855443</td>\n",
       "      <td>PM2.5 - Local Conditions</td>\n",
       "      <td>2017-01-01</td>\n",
       "      <td>5.9</td>\n",
       "      <td>25.0</td>\n",
       "      <td>Arizona</td>\n",
       "      <td>Maricopa</td>\n",
       "      <td>Scottsdale</td>\n",
       "    </tr>\n",
       "    <tr>\n",
       "      <th>1</th>\n",
       "      <td>7020</td>\n",
       "      <td>33.488131</td>\n",
       "      <td>-111.855443</td>\n",
       "      <td>PM2.5 - Local Conditions</td>\n",
       "      <td>2017-01-07</td>\n",
       "      <td>2.0</td>\n",
       "      <td>8.0</td>\n",
       "      <td>Arizona</td>\n",
       "      <td>Maricopa</td>\n",
       "      <td>Scottsdale</td>\n",
       "    </tr>\n",
       "    <tr>\n",
       "      <th>2</th>\n",
       "      <td>7020</td>\n",
       "      <td>33.488131</td>\n",
       "      <td>-111.855443</td>\n",
       "      <td>PM2.5 - Local Conditions</td>\n",
       "      <td>2017-01-13</td>\n",
       "      <td>7.8</td>\n",
       "      <td>33.0</td>\n",
       "      <td>Arizona</td>\n",
       "      <td>Maricopa</td>\n",
       "      <td>Scottsdale</td>\n",
       "    </tr>\n",
       "    <tr>\n",
       "      <th>3</th>\n",
       "      <td>7020</td>\n",
       "      <td>33.488131</td>\n",
       "      <td>-111.855443</td>\n",
       "      <td>PM2.5 - Local Conditions</td>\n",
       "      <td>2017-01-19</td>\n",
       "      <td>8.6</td>\n",
       "      <td>36.0</td>\n",
       "      <td>Arizona</td>\n",
       "      <td>Maricopa</td>\n",
       "      <td>Scottsdale</td>\n",
       "    </tr>\n",
       "    <tr>\n",
       "      <th>4</th>\n",
       "      <td>7020</td>\n",
       "      <td>33.488131</td>\n",
       "      <td>-111.855443</td>\n",
       "      <td>PM2.5 - Local Conditions</td>\n",
       "      <td>2017-01-25</td>\n",
       "      <td>4.0</td>\n",
       "      <td>17.0</td>\n",
       "      <td>Arizona</td>\n",
       "      <td>Maricopa</td>\n",
       "      <td>Scottsdale</td>\n",
       "    </tr>\n",
       "  </tbody>\n",
       "</table>\n",
       "</div>"
      ],
      "text/plain": [
       "   site_number   latitude   longitude                 parameter  date_local  \\\n",
       "0         7020  33.488131 -111.855443  PM2.5 - Local Conditions  2017-01-01   \n",
       "1         7020  33.488131 -111.855443  PM2.5 - Local Conditions  2017-01-07   \n",
       "2         7020  33.488131 -111.855443  PM2.5 - Local Conditions  2017-01-13   \n",
       "3         7020  33.488131 -111.855443  PM2.5 - Local Conditions  2017-01-19   \n",
       "4         7020  33.488131 -111.855443  PM2.5 - Local Conditions  2017-01-25   \n",
       "\n",
       "   arithmetic_mean   aqi    state    county        city  \n",
       "0              5.9  25.0  Arizona  Maricopa  Scottsdale  \n",
       "1              2.0   8.0  Arizona  Maricopa  Scottsdale  \n",
       "2              7.8  33.0  Arizona  Maricopa  Scottsdale  \n",
       "3              8.6  36.0  Arizona  Maricopa  Scottsdale  \n",
       "4              4.0  17.0  Arizona  Maricopa  Scottsdale  "
      ]
     },
     "execution_count": 14,
     "metadata": {},
     "output_type": "execute_result"
    }
   ],
   "source": [
    "df.head()"
   ]
  },
  {
   "cell_type": "code",
   "execution_count": 15,
   "metadata": {},
   "outputs": [],
   "source": [
    "## pivot so that the parameters are columns.   \n",
    "index_vars = ['site_number','latitude','longitude','date_local','state','county','city']\n",
    "#index_vars = ['date_local','state','county','city']\n",
    "df = df.pivot_table(index=index_vars, columns='parameter', values='aqi').reset_index()"
   ]
  },
  {
   "cell_type": "code",
   "execution_count": 16,
   "metadata": {
    "scrolled": true
   },
   "outputs": [
    {
     "data": {
      "text/html": [
       "<div>\n",
       "<style scoped>\n",
       "    .dataframe tbody tr th:only-of-type {\n",
       "        vertical-align: middle;\n",
       "    }\n",
       "\n",
       "    .dataframe tbody tr th {\n",
       "        vertical-align: top;\n",
       "    }\n",
       "\n",
       "    .dataframe thead th {\n",
       "        text-align: right;\n",
       "    }\n",
       "</style>\n",
       "<table border=\"1\" class=\"dataframe\">\n",
       "  <thead>\n",
       "    <tr style=\"text-align: right;\">\n",
       "      <th>parameter</th>\n",
       "      <th>site_number</th>\n",
       "      <th>latitude</th>\n",
       "      <th>longitude</th>\n",
       "      <th>date_local</th>\n",
       "      <th>state</th>\n",
       "      <th>county</th>\n",
       "      <th>city</th>\n",
       "      <th>Carbon monoxide</th>\n",
       "      <th>Nitrogen dioxide (NO2)</th>\n",
       "      <th>Ozone</th>\n",
       "      <th>PM10 Total 0-10um STP</th>\n",
       "      <th>PM2.5 - Local Conditions</th>\n",
       "      <th>Sulfur dioxide</th>\n",
       "    </tr>\n",
       "  </thead>\n",
       "  <tbody>\n",
       "    <tr>\n",
       "      <th>0</th>\n",
       "      <td>2</td>\n",
       "      <td>40.253611</td>\n",
       "      <td>-111.663056</td>\n",
       "      <td>2017-01-01</td>\n",
       "      <td>Utah</td>\n",
       "      <td>Utah</td>\n",
       "      <td>Provo</td>\n",
       "      <td>NaN</td>\n",
       "      <td>43.0</td>\n",
       "      <td>27.0</td>\n",
       "      <td>34.5</td>\n",
       "      <td>83.5</td>\n",
       "      <td>NaN</td>\n",
       "    </tr>\n",
       "    <tr>\n",
       "      <th>1</th>\n",
       "      <td>2</td>\n",
       "      <td>40.253611</td>\n",
       "      <td>-111.663056</td>\n",
       "      <td>2017-01-02</td>\n",
       "      <td>Utah</td>\n",
       "      <td>Utah</td>\n",
       "      <td>Provo</td>\n",
       "      <td>5.0</td>\n",
       "      <td>24.0</td>\n",
       "      <td>23.0</td>\n",
       "      <td>8.0</td>\n",
       "      <td>22.5</td>\n",
       "      <td>NaN</td>\n",
       "    </tr>\n",
       "    <tr>\n",
       "      <th>2</th>\n",
       "      <td>2</td>\n",
       "      <td>40.253611</td>\n",
       "      <td>-111.663056</td>\n",
       "      <td>2017-01-03</td>\n",
       "      <td>Utah</td>\n",
       "      <td>Utah</td>\n",
       "      <td>Provo</td>\n",
       "      <td>8.0</td>\n",
       "      <td>45.0</td>\n",
       "      <td>18.5</td>\n",
       "      <td>17.0</td>\n",
       "      <td>43.0</td>\n",
       "      <td>NaN</td>\n",
       "    </tr>\n",
       "    <tr>\n",
       "      <th>3</th>\n",
       "      <td>2</td>\n",
       "      <td>40.253611</td>\n",
       "      <td>-111.663056</td>\n",
       "      <td>2017-01-04</td>\n",
       "      <td>Utah</td>\n",
       "      <td>Utah</td>\n",
       "      <td>Provo</td>\n",
       "      <td>8.0</td>\n",
       "      <td>41.0</td>\n",
       "      <td>31.0</td>\n",
       "      <td>4.0</td>\n",
       "      <td>4.5</td>\n",
       "      <td>NaN</td>\n",
       "    </tr>\n",
       "    <tr>\n",
       "      <th>4</th>\n",
       "      <td>2</td>\n",
       "      <td>40.253611</td>\n",
       "      <td>-111.663056</td>\n",
       "      <td>2017-01-05</td>\n",
       "      <td>Utah</td>\n",
       "      <td>Utah</td>\n",
       "      <td>Provo</td>\n",
       "      <td>3.0</td>\n",
       "      <td>27.0</td>\n",
       "      <td>29.0</td>\n",
       "      <td>7.0</td>\n",
       "      <td>19.0</td>\n",
       "      <td>NaN</td>\n",
       "    </tr>\n",
       "  </tbody>\n",
       "</table>\n",
       "</div>"
      ],
      "text/plain": [
       "parameter  site_number   latitude   longitude  date_local state county   city  \\\n",
       "0                    2  40.253611 -111.663056  2017-01-01  Utah   Utah  Provo   \n",
       "1                    2  40.253611 -111.663056  2017-01-02  Utah   Utah  Provo   \n",
       "2                    2  40.253611 -111.663056  2017-01-03  Utah   Utah  Provo   \n",
       "3                    2  40.253611 -111.663056  2017-01-04  Utah   Utah  Provo   \n",
       "4                    2  40.253611 -111.663056  2017-01-05  Utah   Utah  Provo   \n",
       "\n",
       "parameter  Carbon monoxide  Nitrogen dioxide (NO2)  Ozone  \\\n",
       "0                      NaN                    43.0   27.0   \n",
       "1                      5.0                    24.0   23.0   \n",
       "2                      8.0                    45.0   18.5   \n",
       "3                      8.0                    41.0   31.0   \n",
       "4                      3.0                    27.0   29.0   \n",
       "\n",
       "parameter  PM10 Total 0-10um STP  PM2.5 - Local Conditions  Sulfur dioxide  \n",
       "0                           34.5                      83.5             NaN  \n",
       "1                            8.0                      22.5             NaN  \n",
       "2                           17.0                      43.0             NaN  \n",
       "3                            4.0                       4.5             NaN  \n",
       "4                            7.0                      19.0             NaN  "
      ]
     },
     "execution_count": 16,
     "metadata": {},
     "output_type": "execute_result"
    }
   ],
   "source": [
    "df.head()"
   ]
  },
  {
   "cell_type": "code",
   "execution_count": 17,
   "metadata": {},
   "outputs": [
    {
     "data": {
      "text/plain": [
       "(67636, 13)"
      ]
     },
     "execution_count": 17,
     "metadata": {},
     "output_type": "execute_result"
    }
   ],
   "source": [
    "df.shape"
   ]
  },
  {
   "cell_type": "code",
   "execution_count": 18,
   "metadata": {},
   "outputs": [],
   "source": [
    "# Compute the API Score as the maximum of the pollutants \n",
    "df['aqi'] = df[['Carbon monoxide', 'Nitrogen dioxide (NO2)', 'Ozone',\n",
    "       'PM10 Total 0-10um STP', 'PM2.5 - Local Conditions', 'Sulfur dioxide']].max(axis=1)"
   ]
  },
  {
   "cell_type": "code",
   "execution_count": null,
   "metadata": {},
   "outputs": [],
   "source": []
  },
  {
   "cell_type": "code",
   "execution_count": 19,
   "metadata": {},
   "outputs": [],
   "source": [
    "az = df[df['state']=='Arizona']\n",
    "ut = df[df['state']=='Utah']"
   ]
  },
  {
   "cell_type": "code",
   "execution_count": 20,
   "metadata": {},
   "outputs": [],
   "source": [
    "#  Look the unique sites for Arizona (this cell) and Utah (next cell)\n",
    "az_sites = az.drop_duplicates(subset=['site_number','latitude','longitude','state','county','city'])\n",
    "az_sites = az_sites.drop(['date_local','aqi'], axis=1)\n",
    "az_sites = az_sites.reset_index()"
   ]
  },
  {
   "cell_type": "code",
   "execution_count": 21,
   "metadata": {},
   "outputs": [],
   "source": [
    "ut_sites = ut.drop_duplicates(subset=['site_number','latitude','longitude','state','county','city'])\n",
    "ut_sites = ut_sites.drop(['date_local','aqi'], axis=1)\n",
    "ut_sites = ut_sites.reset_index()"
   ]
  },
  {
   "cell_type": "code",
   "execution_count": 22,
   "metadata": {},
   "outputs": [
    {
     "data": {
      "image/png": "[encoded data removed]",
      "text/plain": [
       "<Figure size 864x576 with 1 Axes>"
      ]
     },
     "metadata": {
      "needs_background": "light"
     },
     "output_type": "display_data"
    }
   ],
   "source": [
    "## Plot of Arizona Sites\n",
    "plt.figure(figsize=(12,8))\n",
    "plt.scatter(az_sites.longitude, az_sites.latitude)\n",
    "#plt.text(az_sites['longitude'][0], az_sites['latitude'][0], az_sites['city'][0])\n",
    "for i in range(az_sites.shape[0]):\n",
    "    plt.text(az_sites.longitude[i], az_sites.latitude[i], az_sites.city[i])"
   ]
  },
  {
   "cell_type": "code",
   "execution_count": 23,
   "metadata": {},
   "outputs": [
    {
     "data": {
      "image/png": "[encoded data removed]",
      "text/plain": [
       "<Figure size 864x576 with 1 Axes>"
      ]
     },
     "metadata": {
      "needs_background": "light"
     },
     "output_type": "display_data"
    }
   ],
   "source": [
    "## Plot of Utah sites\n",
    "plt.figure(figsize=(12,8))\n",
    "plt.scatter(ut_sites.longitude, ut_sites.latitude)\n",
    "#plt.text(az_sites['longitude'][0], az_sites['latitude'][0], az_sites['city'][0])\n",
    "for i in range(ut_sites.shape[0]):\n",
    "    plt.text(ut_sites.longitude[i], ut_sites.latitude[i], ut_sites.city[i])"
   ]
  },
  {
   "cell_type": "code",
   "execution_count": 24,
   "metadata": {},
   "outputs": [],
   "source": [
    "## For now just keep Mesa, Chandler, Gilbert, Tempe, Lindon, Provo, Spanish Fork"
   ]
  },
  {
   "cell_type": "code",
   "execution_count": 25,
   "metadata": {},
   "outputs": [],
   "source": [
    "cities_to_keep = ['Mesa','Chandler','Gilbert','Tempe','Lindon','Provo', 'Spanish Fork']"
   ]
  },
  {
   "cell_type": "code",
   "execution_count": 26,
   "metadata": {},
   "outputs": [],
   "source": [
    "df = df[df['city'].apply(lambda x: x in cities_to_keep)]"
   ]
  },
  {
   "cell_type": "code",
   "execution_count": 27,
   "metadata": {},
   "outputs": [],
   "source": [
    "df['date'] = pd.to_datetime(df['date_local'])"
   ]
  },
  {
   "cell_type": "code",
   "execution_count": 34,
   "metadata": {},
   "outputs": [
    {
     "data": {
      "text/html": [
       "<div>\n",
       "<style scoped>\n",
       "    .dataframe tbody tr th:only-of-type {\n",
       "        vertical-align: middle;\n",
       "    }\n",
       "\n",
       "    .dataframe tbody tr th {\n",
       "        vertical-align: top;\n",
       "    }\n",
       "\n",
       "    .dataframe thead th {\n",
       "        text-align: right;\n",
       "    }\n",
       "</style>\n",
       "<table border=\"1\" class=\"dataframe\">\n",
       "  <thead>\n",
       "    <tr style=\"text-align: right;\">\n",
       "      <th>parameter</th>\n",
       "      <th>site_number</th>\n",
       "      <th>latitude</th>\n",
       "      <th>longitude</th>\n",
       "      <th>state</th>\n",
       "      <th>county</th>\n",
       "      <th>city</th>\n",
       "      <th>Carbon monoxide</th>\n",
       "      <th>Nitrogen dioxide (NO2)</th>\n",
       "      <th>Ozone</th>\n",
       "      <th>PM10 Total 0-10um STP</th>\n",
       "      <th>PM2.5 - Local Conditions</th>\n",
       "      <th>Sulfur dioxide</th>\n",
       "      <th>aqi</th>\n",
       "      <th>date</th>\n",
       "      <th>year</th>\n",
       "      <th>month</th>\n",
       "    </tr>\n",
       "  </thead>\n",
       "  <tbody>\n",
       "    <tr>\n",
       "      <th>0</th>\n",
       "      <td>2</td>\n",
       "      <td>40.253611</td>\n",
       "      <td>-111.663056</td>\n",
       "      <td>Utah</td>\n",
       "      <td>Utah</td>\n",
       "      <td>Provo</td>\n",
       "      <td>NaN</td>\n",
       "      <td>43.0</td>\n",
       "      <td>27.0</td>\n",
       "      <td>34.5</td>\n",
       "      <td>83.5</td>\n",
       "      <td>NaN</td>\n",
       "      <td>83.5</td>\n",
       "      <td>2017-01-01</td>\n",
       "      <td>2017</td>\n",
       "      <td>1</td>\n",
       "    </tr>\n",
       "    <tr>\n",
       "      <th>1</th>\n",
       "      <td>2</td>\n",
       "      <td>40.253611</td>\n",
       "      <td>-111.663056</td>\n",
       "      <td>Utah</td>\n",
       "      <td>Utah</td>\n",
       "      <td>Provo</td>\n",
       "      <td>5.0</td>\n",
       "      <td>24.0</td>\n",
       "      <td>23.0</td>\n",
       "      <td>8.0</td>\n",
       "      <td>22.5</td>\n",
       "      <td>NaN</td>\n",
       "      <td>24.0</td>\n",
       "      <td>2017-01-02</td>\n",
       "      <td>2017</td>\n",
       "      <td>1</td>\n",
       "    </tr>\n",
       "    <tr>\n",
       "      <th>2</th>\n",
       "      <td>2</td>\n",
       "      <td>40.253611</td>\n",
       "      <td>-111.663056</td>\n",
       "      <td>Utah</td>\n",
       "      <td>Utah</td>\n",
       "      <td>Provo</td>\n",
       "      <td>8.0</td>\n",
       "      <td>45.0</td>\n",
       "      <td>18.5</td>\n",
       "      <td>17.0</td>\n",
       "      <td>43.0</td>\n",
       "      <td>NaN</td>\n",
       "      <td>45.0</td>\n",
       "      <td>2017-01-03</td>\n",
       "      <td>2017</td>\n",
       "      <td>1</td>\n",
       "    </tr>\n",
       "    <tr>\n",
       "      <th>3</th>\n",
       "      <td>2</td>\n",
       "      <td>40.253611</td>\n",
       "      <td>-111.663056</td>\n",
       "      <td>Utah</td>\n",
       "      <td>Utah</td>\n",
       "      <td>Provo</td>\n",
       "      <td>8.0</td>\n",
       "      <td>41.0</td>\n",
       "      <td>31.0</td>\n",
       "      <td>4.0</td>\n",
       "      <td>4.5</td>\n",
       "      <td>NaN</td>\n",
       "      <td>41.0</td>\n",
       "      <td>2017-01-04</td>\n",
       "      <td>2017</td>\n",
       "      <td>1</td>\n",
       "    </tr>\n",
       "    <tr>\n",
       "      <th>4</th>\n",
       "      <td>2</td>\n",
       "      <td>40.253611</td>\n",
       "      <td>-111.663056</td>\n",
       "      <td>Utah</td>\n",
       "      <td>Utah</td>\n",
       "      <td>Provo</td>\n",
       "      <td>3.0</td>\n",
       "      <td>27.0</td>\n",
       "      <td>29.0</td>\n",
       "      <td>7.0</td>\n",
       "      <td>19.0</td>\n",
       "      <td>NaN</td>\n",
       "      <td>29.0</td>\n",
       "      <td>2017-01-05</td>\n",
       "      <td>2017</td>\n",
       "      <td>1</td>\n",
       "    </tr>\n",
       "  </tbody>\n",
       "</table>\n",
       "</div>"
      ],
      "text/plain": [
       "parameter  site_number   latitude   longitude state county   city  \\\n",
       "0                    2  40.253611 -111.663056  Utah   Utah  Provo   \n",
       "1                    2  40.253611 -111.663056  Utah   Utah  Provo   \n",
       "2                    2  40.253611 -111.663056  Utah   Utah  Provo   \n",
       "3                    2  40.253611 -111.663056  Utah   Utah  Provo   \n",
       "4                    2  40.253611 -111.663056  Utah   Utah  Provo   \n",
       "\n",
       "parameter  Carbon monoxide  Nitrogen dioxide (NO2)  Ozone  \\\n",
       "0                      NaN                    43.0   27.0   \n",
       "1                      5.0                    24.0   23.0   \n",
       "2                      8.0                    45.0   18.5   \n",
       "3                      8.0                    41.0   31.0   \n",
       "4                      3.0                    27.0   29.0   \n",
       "\n",
       "parameter  PM10 Total 0-10um STP  PM2.5 - Local Conditions  Sulfur dioxide  \\\n",
       "0                           34.5                      83.5             NaN   \n",
       "1                            8.0                      22.5             NaN   \n",
       "2                           17.0                      43.0             NaN   \n",
       "3                            4.0                       4.5             NaN   \n",
       "4                            7.0                      19.0             NaN   \n",
       "\n",
       "parameter   aqi       date  year  month  \n",
       "0          83.5 2017-01-01  2017      1  \n",
       "1          24.0 2017-01-02  2017      1  \n",
       "2          45.0 2017-01-03  2017      1  \n",
       "3          41.0 2017-01-04  2017      1  \n",
       "4          29.0 2017-01-05  2017      1  "
      ]
     },
     "execution_count": 34,
     "metadata": {},
     "output_type": "execute_result"
    }
   ],
   "source": [
    "df.head()"
   ]
  },
  {
   "cell_type": "code",
   "execution_count": 33,
   "metadata": {},
   "outputs": [],
   "source": [
    "df['year'] = df['date'].dt.year\n",
    "df['month'] = df['date'].dt.month\n"
   ]
  },
  {
   "cell_type": "code",
   "execution_count": 31,
   "metadata": {},
   "outputs": [],
   "source": [
    "df = df.drop('date_local', axis=1)"
   ]
  },
  {
   "cell_type": "code",
   "execution_count": 35,
   "metadata": {},
   "outputs": [],
   "source": [
    "# save the cleaned data that I will work with later\n",
    "df.to_csv('data.csv', index=None)"
   ]
  },
  {
   "cell_type": "code",
   "execution_count": null,
   "metadata": {},
   "outputs": [],
   "source": []
  }
 ],
 "metadata": {
  "kernelspec": {
   "display_name": "Python 3 (ipykernel)",
   "language": "python",
   "name": "python3"
  },
  "language_info": {
   "codemirror_mode": {
    "name": "ipython",
    "version": 3
   },
   "file_extension": ".py",
   "mimetype": "text/x-python",
   "name": "python",
   "nbconvert_exporter": "python",
   "pygments_lexer": "ipython3",
   "version": "3.9.12"
  },
  "vscode": {
   "interpreter": {
    "hash": "47436003544d53132fdf44e88e8997a7714b3715c1af49aa446ba6f803d44dad"
   }
  }
 },
 "nbformat": 4,
 "nbformat_minor": 4
}
