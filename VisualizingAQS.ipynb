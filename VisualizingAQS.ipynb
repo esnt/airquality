{
 "cells": [
  {
   "cell_type": "code",
   "execution_count": 1,
   "id": "08693d62",
   "metadata": {},
   "outputs": [],
   "source": [
    "import pandas as pd\n",
    "import numpy as np\n",
    "import requests\n",
    "import re\n",
    "from bs4 import BeautifulSoup\n",
    "import matplotlib.pyplot as plt\n",
    "import seaborn as sns\n",
    "import time"
   ]
  },
  {
   "cell_type": "code",
   "execution_count": 3,
   "id": "e2f0ce28",
   "metadata": {},
   "outputs": [],
   "source": [
    "# aqs_key.txt is text file with two lines.  The first line \n",
    "# is my aqs email and the second line has my aqs api key\n",
    "with open('aqs_key.txt', 'r') as file:\n",
    "    email = file.readline().strip()\n",
    "    key = file.readline().strip()"
   ]
  },
  {
   "cell_type": "code",
   "execution_count": null,
   "id": "4849ee5d",
   "metadata": {},
   "outputs": [],
   "source": []
  },
  {
   "cell_type": "code",
   "execution_count": 6,
   "id": "f433576f",
   "metadata": {},
   "outputs": [],
   "source": [
    "list_url = 'https://aqs.epa.gov/data/api/list/'"
   ]
  },
  {
   "cell_type": "markdown",
   "id": "fd637119",
   "metadata": {},
   "source": [
    "## Get State FIPS codes"
   ]
  },
  {
   "cell_type": "code",
   "execution_count": 9,
   "id": "8d5a82a8",
   "metadata": {},
   "outputs": [
    {
     "data": {
      "text/plain": [
       "200"
      ]
     },
     "execution_count": 9,
     "metadata": {},
     "output_type": "execute_result"
    }
   ],
   "source": [
    "# STATE FIPS\n",
    "url = list_url + 'states'\n",
    "r = requests.get(url, params = {\"email\":email, \"key\":key})\n",
    "r.status_code"
   ]
  },
  {
   "cell_type": "code",
   "execution_count": null,
   "id": "51353052",
   "metadata": {},
   "outputs": [],
   "source": []
  },
  {
   "cell_type": "code",
   "execution_count": 21,
   "id": "1b42d5cb",
   "metadata": {},
   "outputs": [
    {
     "data": {
      "text/html": [
       "<div>\n",
       "<style scoped>\n",
       "    .dataframe tbody tr th:only-of-type {\n",
       "        vertical-align: middle;\n",
       "    }\n",
       "\n",
       "    .dataframe tbody tr th {\n",
       "        vertical-align: top;\n",
       "    }\n",
       "\n",
       "    .dataframe thead th {\n",
       "        text-align: right;\n",
       "    }\n",
       "</style>\n",
       "<table border=\"1\" class=\"dataframe\">\n",
       "  <thead>\n",
       "    <tr style=\"text-align: right;\">\n",
       "      <th></th>\n",
       "      <th>code</th>\n",
       "      <th>value_represented</th>\n",
       "    </tr>\n",
       "  </thead>\n",
       "  <tbody>\n",
       "    <tr>\n",
       "      <th>2</th>\n",
       "      <td>04</td>\n",
       "      <td>Arizona</td>\n",
       "    </tr>\n",
       "    <tr>\n",
       "      <th>44</th>\n",
       "      <td>49</td>\n",
       "      <td>Utah</td>\n",
       "    </tr>\n",
       "  </tbody>\n",
       "</table>\n",
       "</div>"
      ],
      "text/plain": [
       "   code value_represented\n",
       "2    04           Arizona\n",
       "44   49              Utah"
      ]
     },
     "execution_count": 21,
     "metadata": {},
     "output_type": "execute_result"
    }
   ],
   "source": [
    "states = pd.DataFrame(r.json()['Data'])\n",
    "states[(states.value_represented=='Utah') | (states.value_represented=='Arizona')]\n",
    "## Utah is 49\n",
    "## Arizona is 04"
   ]
  },
  {
   "cell_type": "code",
   "execution_count": 64,
   "id": "217c00ab",
   "metadata": {},
   "outputs": [],
   "source": [
    "url = \"https://aqs.epa.gov/data/api/list/cbsas\"\n",
    "params = {\"email\": email, \"key\": key}\n",
    "r = requests.get(url, params=params)"
   ]
  },
  {
   "cell_type": "code",
   "execution_count": 65,
   "id": "92531e84",
   "metadata": {},
   "outputs": [
    {
     "data": {
      "text/plain": [
       "<Response [200]>"
      ]
     },
     "execution_count": 65,
     "metadata": {},
     "output_type": "execute_result"
    }
   ],
   "source": [
    "r"
   ]
  },
  {
   "cell_type": "code",
   "execution_count": 67,
   "id": "3ef64fb1",
   "metadata": {},
   "outputs": [],
   "source": []
  },
  {
   "cell_type": "code",
   "execution_count": null,
   "id": "fbceda9a",
   "metadata": {},
   "outputs": [],
   "source": []
  },
  {
   "cell_type": "markdown",
   "id": "cb261f5a",
   "metadata": {},
   "source": [
    "## Get County FIPS\n",
    "\n",
    "I am interested in Maricopa county in Arizona and Utah county in Utah"
   ]
  },
  {
   "cell_type": "code",
   "execution_count": 37,
   "id": "9c694f3c",
   "metadata": {},
   "outputs": [
    {
     "data": {
      "text/plain": [
       "200"
      ]
     },
     "execution_count": 37,
     "metadata": {},
     "output_type": "execute_result"
    }
   ],
   "source": [
    "# County Codes for Arizona\n",
    "url = list_url + 'countiesByState'\n",
    "r = requests.get(url, params = {\"email\":email, \"key\":key, \"state\":\"04\"})\n",
    "r.status_code"
   ]
  },
  {
   "cell_type": "code",
   "execution_count": 40,
   "id": "9e923193",
   "metadata": {},
   "outputs": [
    {
     "data": {
      "text/plain": [
       "[{'code': '001', 'value_represented': 'Apache'},\n",
       " {'code': '003', 'value_represented': 'Cochise'},\n",
       " {'code': '005', 'value_represented': 'Coconino'},\n",
       " {'code': '007', 'value_represented': 'Gila'},\n",
       " {'code': '009', 'value_represented': 'Graham'},\n",
       " {'code': '011', 'value_represented': 'Greenlee'},\n",
       " {'code': '012', 'value_represented': 'La Paz'},\n",
       " {'code': '013', 'value_represented': 'Maricopa'},\n",
       " {'code': '015', 'value_represented': 'Mohave'},\n",
       " {'code': '017', 'value_represented': 'Navajo'},\n",
       " {'code': '019', 'value_represented': 'Pima'},\n",
       " {'code': '021', 'value_represented': 'Pinal'},\n",
       " {'code': '023', 'value_represented': 'Santa Cruz'},\n",
       " {'code': '025', 'value_represented': 'Yavapai'},\n",
       " {'code': '027', 'value_represented': 'Yuma'}]"
      ]
     },
     "execution_count": 40,
     "metadata": {},
     "output_type": "execute_result"
    }
   ],
   "source": [
    "r.json()['Data']\n",
    "## Maricopa county is 013"
   ]
  },
  {
   "cell_type": "code",
   "execution_count": 42,
   "id": "0aca681e",
   "metadata": {},
   "outputs": [
    {
     "name": "stdout",
     "output_type": "stream",
     "text": [
      "200\n"
     ]
    },
    {
     "data": {
      "text/plain": [
       "[{'code': '001', 'value_represented': 'Beaver'},\n",
       " {'code': '003', 'value_represented': 'Box Elder'},\n",
       " {'code': '005', 'value_represented': 'Cache'},\n",
       " {'code': '007', 'value_represented': 'Carbon'},\n",
       " {'code': '009', 'value_represented': 'Daggett'},\n",
       " {'code': '011', 'value_represented': 'Davis'},\n",
       " {'code': '013', 'value_represented': 'Duchesne'},\n",
       " {'code': '015', 'value_represented': 'Emery'},\n",
       " {'code': '017', 'value_represented': 'Garfield'},\n",
       " {'code': '019', 'value_represented': 'Grand'},\n",
       " {'code': '021', 'value_represented': 'Iron'},\n",
       " {'code': '023', 'value_represented': 'Juab'},\n",
       " {'code': '025', 'value_represented': 'Kane'},\n",
       " {'code': '027', 'value_represented': 'Millard'},\n",
       " {'code': '029', 'value_represented': 'Morgan'},\n",
       " {'code': '031', 'value_represented': 'Piute'},\n",
       " {'code': '033', 'value_represented': 'Rich'},\n",
       " {'code': '035', 'value_represented': 'Salt Lake'},\n",
       " {'code': '037', 'value_represented': 'San Juan'},\n",
       " {'code': '039', 'value_represented': 'Sanpete'},\n",
       " {'code': '041', 'value_represented': 'Sevier'},\n",
       " {'code': '043', 'value_represented': 'Summit'},\n",
       " {'code': '045', 'value_represented': 'Tooele'},\n",
       " {'code': '047', 'value_represented': 'Uintah'},\n",
       " {'code': '049', 'value_represented': 'Utah'},\n",
       " {'code': '051', 'value_represented': 'Wasatch'},\n",
       " {'code': '053', 'value_represented': 'Washington'},\n",
       " {'code': '055', 'value_represented': 'Wayne'},\n",
       " {'code': '057', 'value_represented': 'Weber'}]"
      ]
     },
     "execution_count": 42,
     "metadata": {},
     "output_type": "execute_result"
    }
   ],
   "source": [
    "# County Codes for Utah\n",
    "url = list_url + 'countiesByState'\n",
    "r = requests.get(url, params = {\"email\":email, \"key\":key, \"state\":\"49\"})\n",
    "print(r.status_code)\n",
    "r.json()['Data']\n",
    "## Utah county is 049\n",
    "## SLC county is 035"
   ]
  },
  {
   "cell_type": "markdown",
   "id": "1108c775",
   "metadata": {},
   "source": [
    "I want the stations from \n",
    "- State 04 (Arizona), County 013 (Maricopa)  \n",
    "- State 49 (Utah), County 049 (Utah) \n",
    "- State 49 (Utah), County 035 (Salt Lake) "
   ]
  },
  {
   "cell_type": "markdown",
   "id": "a062ed5a",
   "metadata": {},
   "source": [
    "## Get AQI Pollutants"
   ]
  },
  {
   "cell_type": "code",
   "execution_count": 11,
   "id": "a8e4e506",
   "metadata": {},
   "outputs": [
    {
     "name": "stdout",
     "output_type": "stream",
     "text": [
      "True\n"
     ]
    }
   ],
   "source": [
    "url = \"https://aqs.epa.gov/data/api/list/parametersByClass\"\n",
    "params = {\n",
    "    \"email\":email,\n",
    "    \"key\":key,\n",
    "    \"pc\": \"AQI POLLUTANTS\"}\n",
    "pcs = requests.get(url, params=params)\n",
    "print(pcs.ok)"
   ]
  },
  {
   "cell_type": "code",
   "execution_count": 12,
   "id": "a5c15fc4",
   "metadata": {},
   "outputs": [
    {
     "data": {
      "text/plain": [
       "[{'code': '42101', 'value_represented': 'Carbon monoxide'},\n",
       " {'code': '42401', 'value_represented': 'Sulfur dioxide'},\n",
       " {'code': '42602', 'value_represented': 'Nitrogen dioxide (NO2)'},\n",
       " {'code': '44201', 'value_represented': 'Ozone'},\n",
       " {'code': '81102', 'value_represented': 'PM10 Total 0-10um STP'},\n",
       " {'code': '88101', 'value_represented': 'PM2.5 - Local Conditions'},\n",
       " {'code': '88502',\n",
       "  'value_represented': 'Acceptable PM2.5 AQI & Speciation Mass'}]"
      ]
     },
     "execution_count": 12,
     "metadata": {},
     "output_type": "execute_result"
    }
   ],
   "source": [
    "pcs.json()['Data']"
   ]
  },
  {
   "cell_type": "markdown",
   "id": "e8ecedde",
   "metadata": {},
   "source": [
    "# Get Data"
   ]
  },
  {
   "cell_type": "code",
   "execution_count": 7,
   "id": "1e1c9159",
   "metadata": {},
   "outputs": [],
   "source": [
    "# parameters that I want\n",
    "pc = pd.DataFrame(pcs.json()['Data'])['code'][0:6]\n",
    "slc = ('49', '035')\n",
    "utc = ('49', '049')\n",
    "mcc = ('04', '013')\n",
    "loc = [slc,utc,mcc]\n",
    "#loc = [utc,mcc]\n",
    "years = ['2021','2020','2019','2018','2017']"
   ]
  },
  {
   "cell_type": "code",
   "execution_count": 8,
   "id": "a6b3c2fd",
   "metadata": {},
   "outputs": [],
   "source": [
    "# try for one combination of requests\n",
    "url = \"https://aqs.epa.gov/data/api/dailyData/byCounty\"\n",
    "params = {\"email\":email,\"key\":key,\n",
    "          \"param\": pc[0],\n",
    "          \"bdate\": years[0]+\"0101\",\n",
    "          \"edate\": years[0]+\"1231\",\n",
    "          \"state\": loc[0][0],\n",
    "          \"county\": loc[0][1]}\n",
    "            "
   ]
  },
  {
   "cell_type": "code",
   "execution_count": 9,
   "id": "676abdc1",
   "metadata": {},
   "outputs": [],
   "source": [
    "r = requests.get(url, params=params)"
   ]
  },
  {
   "cell_type": "code",
   "execution_count": 10,
   "id": "31f47b52",
   "metadata": {},
   "outputs": [
    {
     "data": {
      "text/plain": [
       "True"
      ]
     },
     "execution_count": 10,
     "metadata": {},
     "output_type": "execute_result"
    }
   ],
   "source": [
    "r.ok"
   ]
  },
  {
   "cell_type": "code",
   "execution_count": null,
   "id": "714a5007",
   "metadata": {},
   "outputs": [],
   "source": [
    "## Run loop through all parameter combinations of interest"
   ]
  },
  {
   "cell_type": "code",
   "execution_count": 157,
   "id": "c64e6ec4",
   "metadata": {},
   "outputs": [],
   "source": [
    "# columns to keep\n",
    "keep = ['state_code', 'county_code', 'site_number', 'parameter_code', \n",
    "       'latitude', 'longitude', 'parameter',\n",
    "       'date_local',\n",
    "       'event_type', 'observation_count',\n",
    "       'observation_percent', 'validity_indicator', 'arithmetic_mean',\n",
    "       'first_max_value', 'first_max_hour', 'aqi', \n",
    "       'local_site_name', 'state', 'county', 'city',\n",
    "       'cbsa_code', 'cbsa']"
   ]
  },
  {
   "cell_type": "code",
   "execution_count": 158,
   "id": "ca9a7953",
   "metadata": {},
   "outputs": [
    {
     "name": "stdout",
     "output_type": "stream",
     "text": [
      "('2021', ('49', '035'), '42101')\n",
      "('2021', ('49', '035'), '42401')\n",
      "('2021', ('49', '035'), '42602')\n",
      "('2021', ('49', '035'), '44201')\n",
      "('2021', ('49', '035'), '81102')\n",
      "('2021', ('49', '035'), '88101')\n",
      "('2021', ('49', '049'), '42101')\n",
      "('2021', ('49', '049'), '42401')\n",
      "('2021', ('49', '049'), '42602')\n",
      "('2021', ('49', '049'), '44201')\n",
      "('2021', ('49', '049'), '81102')\n",
      "('2021', ('49', '049'), '88101')\n",
      "('2021', ('04', '013'), '42101')\n",
      "('2021', ('04', '013'), '42401')\n",
      "('2021', ('04', '013'), '42602')\n",
      "('2021', ('04', '013'), '44201')\n",
      "('2021', ('04', '013'), '81102')\n",
      "('2021', ('04', '013'), '88101')\n",
      "('2020', ('49', '035'), '42101')\n",
      "('2020', ('49', '035'), '42401')\n",
      "('2020', ('49', '035'), '42602')\n",
      "('2020', ('49', '035'), '44201')\n",
      "('2020', ('49', '035'), '81102')\n",
      "('2020', ('49', '035'), '88101')\n",
      "('2020', ('49', '049'), '42101')\n",
      "('2020', ('49', '049'), '42401')\n",
      "('2020', ('49', '049'), '42602')\n",
      "('2020', ('49', '049'), '44201')\n",
      "('2020', ('49', '049'), '81102')\n",
      "('2020', ('49', '049'), '88101')\n",
      "('2020', ('04', '013'), '42101')\n",
      "('2020', ('04', '013'), '42401')\n",
      "('2020', ('04', '013'), '42602')\n",
      "('2020', ('04', '013'), '44201')\n",
      "('2020', ('04', '013'), '81102')\n",
      "('2020', ('04', '013'), '88101')\n",
      "('2019', ('49', '035'), '42101')\n",
      "('2019', ('49', '035'), '42401')\n",
      "('2019', ('49', '035'), '42602')\n",
      "('2019', ('49', '035'), '44201')\n",
      "('2019', ('49', '035'), '81102')\n",
      "('2019', ('49', '035'), '88101')\n",
      "('2019', ('49', '049'), '42101')\n",
      "('2019', ('49', '049'), '42401')\n",
      "('2019', ('49', '049'), '42602')\n",
      "('2019', ('49', '049'), '44201')\n",
      "('2019', ('49', '049'), '81102')\n",
      "('2019', ('49', '049'), '88101')\n",
      "('2019', ('04', '013'), '42101')\n",
      "('2019', ('04', '013'), '42401')\n",
      "('2019', ('04', '013'), '42602')\n",
      "('2019', ('04', '013'), '44201')\n",
      "('2019', ('04', '013'), '81102')\n",
      "('2019', ('04', '013'), '88101')\n",
      "('2018', ('49', '035'), '42101')\n",
      "('2018', ('49', '035'), '42401')\n",
      "('2018', ('49', '035'), '42602')\n",
      "('2018', ('49', '035'), '44201')\n",
      "('2018', ('49', '035'), '81102')\n",
      "('2018', ('49', '035'), '88101')\n",
      "('2018', ('49', '049'), '42101')\n",
      "('2018', ('49', '049'), '42401')\n",
      "('2018', ('49', '049'), '42602')\n",
      "('2018', ('49', '049'), '44201')\n",
      "('2018', ('49', '049'), '81102')\n",
      "('2018', ('49', '049'), '88101')\n",
      "('2018', ('04', '013'), '42101')\n",
      "('2018', ('04', '013'), '42401')\n",
      "('2018', ('04', '013'), '42602')\n",
      "('2018', ('04', '013'), '44201')\n",
      "('2018', ('04', '013'), '81102')\n",
      "('2018', ('04', '013'), '88101')\n",
      "('2017', ('49', '035'), '42101')\n",
      "('2017', ('49', '035'), '42401')\n",
      "('2017', ('49', '035'), '42602')\n",
      "('2017', ('49', '035'), '44201')\n",
      "('2017', ('49', '035'), '81102')\n",
      "('2017', ('49', '035'), '88101')\n",
      "('2017', ('49', '049'), '42101')\n",
      "('2017', ('49', '049'), '42401')\n",
      "('2017', ('49', '049'), '42602')\n",
      "('2017', ('49', '049'), '44201')\n",
      "('2017', ('49', '049'), '81102')\n",
      "('2017', ('49', '049'), '88101')\n",
      "('2017', ('04', '013'), '42101')\n",
      "('2017', ('04', '013'), '42401')\n",
      "('2017', ('04', '013'), '42602')\n",
      "('2017', ('04', '013'), '44201')\n",
      "('2017', ('04', '013'), '81102')\n",
      "('2017', ('04', '013'), '88101')\n"
     ]
    }
   ],
   "source": [
    "#DF = pd.DataFrame()\n",
    "for y in years:\n",
    "    for l in loc:\n",
    "        for p in pc:\n",
    "            print((y,l,p))\n",
    "            time.sleep(10)\n",
    "            params = {\"email\":email,\"key\":key,\"param\": p,\"bdate\": y+\"0101\",\"edate\": y+\"1231\",\"state\": l[0],\"county\": l[1]}\n",
    "            r = requests.get(url, params=params)\n",
    "            if r.ok:\n",
    "                if r.json()['Header'][0]['rows'] > 0:\n",
    "                    df = pd.DataFrame(r.json()['Data'])\n",
    "                    try: \n",
    "                        df = df[keep]\n",
    "                        DF = pd.concat([df,DF])\n",
    "                    except:\n",
    "                        pass\n"
   ]
  },
  {
   "cell_type": "code",
   "execution_count": 159,
   "id": "af6e50a5",
   "metadata": {},
   "outputs": [
    {
     "data": {
      "text/plain": [
       "(802618, 22)"
      ]
     },
     "execution_count": 159,
     "metadata": {},
     "output_type": "execute_result"
    }
   ],
   "source": [
    "DF.shape"
   ]
  },
  {
   "cell_type": "code",
   "execution_count": 165,
   "id": "ba7fe9e6",
   "metadata": {},
   "outputs": [],
   "source": [
    "DF.drop_duplicates(inplace=True, ignore_index=True)"
   ]
  },
  {
   "cell_type": "code",
   "execution_count": 166,
   "id": "0a91a49d",
   "metadata": {},
   "outputs": [
    {
     "data": {
      "text/plain": [
       "(431028, 22)"
      ]
     },
     "execution_count": 166,
     "metadata": {},
     "output_type": "execute_result"
    }
   ],
   "source": [
    "DF.shape"
   ]
  },
  {
   "cell_type": "code",
   "execution_count": 169,
   "id": "f9c643f9",
   "metadata": {},
   "outputs": [
    {
     "name": "stdout",
     "output_type": "stream",
     "text": [
      "<class 'pandas.core.frame.DataFrame'>\n",
      "RangeIndex: 431028 entries, 0 to 431027\n",
      "Data columns (total 22 columns):\n",
      " #   Column               Non-Null Count   Dtype  \n",
      "---  ------               --------------   -----  \n",
      " 0   state_code           431028 non-null  object \n",
      " 1   county_code          431028 non-null  object \n",
      " 2   site_number          431028 non-null  object \n",
      " 3   parameter_code       431028 non-null  object \n",
      " 4   latitude             431028 non-null  float64\n",
      " 5   longitude            431028 non-null  float64\n",
      " 6   parameter            431028 non-null  object \n",
      " 7   date_local           431028 non-null  object \n",
      " 8   event_type           431028 non-null  object \n",
      " 9   observation_count    431028 non-null  int64  \n",
      " 10  observation_percent  431028 non-null  float64\n",
      " 11  validity_indicator   431028 non-null  object \n",
      " 12  arithmetic_mean      431028 non-null  float64\n",
      " 13  first_max_value      431028 non-null  float64\n",
      " 14  first_max_hour       431028 non-null  int64  \n",
      " 15  aqi                  256189 non-null  float64\n",
      " 16  local_site_name      426754 non-null  object \n",
      " 17  state                431028 non-null  object \n",
      " 18  county               431028 non-null  object \n",
      " 19  city                 431028 non-null  object \n",
      " 20  cbsa_code            431028 non-null  object \n",
      " 21  cbsa                 431028 non-null  object \n",
      "dtypes: float64(6), int64(2), object(14)\n",
      "memory usage: 72.3+ MB\n"
     ]
    }
   ],
   "source": [
    "DF.info()"
   ]
  },
  {
   "cell_type": "code",
   "execution_count": 172,
   "id": "a225dc32",
   "metadata": {},
   "outputs": [],
   "source": [
    "# DF.to_csv('aqi_utah_arizona.csv', index=False)\n",
    "# save data so I don't have to run again"
   ]
  },
  {
   "cell_type": "code",
   "execution_count": null,
   "id": "e1276b28",
   "metadata": {},
   "outputs": [],
   "source": []
  },
  {
   "cell_type": "code",
   "execution_count": null,
   "id": "dad9fa81",
   "metadata": {},
   "outputs": [],
   "source": []
  },
  {
   "cell_type": "code",
   "execution_count": null,
   "id": "f54726d2",
   "metadata": {},
   "outputs": [],
   "source": []
  }
 ],
 "metadata": {
  "kernelspec": {
   "display_name": "Python 3 (ipykernel)",
   "language": "python",
   "name": "python3"
  },
  "language_info": {
   "codemirror_mode": {
    "name": "ipython",
    "version": 3
   },
   "file_extension": ".py",
   "mimetype": "text/x-python",
   "name": "python",
   "nbconvert_exporter": "python",
   "pygments_lexer": "ipython3",
   "version": "3.9.12"
  }
 },
 "nbformat": 4,
 "nbformat_minor": 5
}
